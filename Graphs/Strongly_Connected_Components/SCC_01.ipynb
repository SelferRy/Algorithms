{
 "cells": [
  {
   "cell_type": "code",
   "execution_count": 33,
   "metadata": {},
   "outputs": [
    {
     "data": {
      "text/plain": [
       "dict_keys(['edges', '_empty_vert', '_verteces', '_explored'])"
      ]
     },
     "execution_count": 33,
     "metadata": {},
     "output_type": "execute_result"
    }
   ],
   "source": [
    "import numpy as np\n",
    "import io\n",
    "\n",
    "file = \"./data_SCC.txt\"\n",
    "test_file = \"./data_SCC_test.txt\"\n",
    "# edges = [list(map(int, line[:-2].split())) for line in io.open(file).readlines()]\n",
    "# graph = {edge[0]:[] for edge in edges}\n",
    "# r_graph = {edge[1]:[] for edge in edges}\n",
    "\n",
    "\n",
    "class Graph:\n",
    "    \n",
    "    t = 0   # time\n",
    "    f = {}  # finishing time\n",
    "    s = None \n",
    "    leaders = {}\n",
    "    def __init__(self, data_edges):\n",
    "        self.edges = [list(map(int, line[:-2].split())) for line in io.open(data_edges).readlines()]\n",
    "        self._explored = {v:False for v in [*self.verteces]}\n",
    "\n",
    "    @property\n",
    "    def empty_vert(self):\n",
    "        self._empty_vert = {v:[] for v in range(1, np.max(self.edges) + 1)}\n",
    "        return self._empty_vert\n",
    "        \n",
    "    @property\n",
    "    def verteces(self):\n",
    "        self._verteces = self.empty_vert.copy() # {v:[] for v in range(1, np.max(self.edges) + 1)} # {edge[0]:[] for edge in self.edges}\n",
    "        for v1, v2 in self.edges:\n",
    "            self._verteces[v1].append(v2)\n",
    "        return self._verteces\n",
    "    \n",
    "    @property\n",
    "    def r_verteces(self):\n",
    "        self._r_verteces = self.empty_vert.copy() # {v:[] for v in range(1, np.max(self.edges) + 1)} # {edge[1]:[] for edge in self.edges}\n",
    "        for v1, v2 in self.edges:\n",
    "            self._r_verteces[v2].append(v1)\n",
    "        return self._r_verteces\n",
    "    \n",
    "#     explored = [*self.verteces]\n",
    "    @property\n",
    "    def explored(self):\n",
    "        return self._explored\n",
    "    \n",
    "    @explored.setter\n",
    "    def explored(self, tuple_val):\n",
    "        i, val = tuple_val\n",
    "        self._explored[i] = val\n",
    "#         print(self._explored)\n",
    "#         return self._explored\n",
    "\n",
    "        \n",
    "G = Graph(test_file)\n",
    "# {v:False for v in [*G.verteces]}\n",
    "# print(G.explored)\n",
    "# G.explored = (1, True)\n",
    "# G.explored\n",
    "G.__dict__.keys()"
   ]
  },
  {
   "cell_type": "code",
   "execution_count": 34,
   "metadata": {},
   "outputs": [],
   "source": [
    "def dfs_loop(graph):\n",
    "    n = max(*graph.verteces) #+ 1\n",
    "    for i in range(n, 0, -1):\n",
    "        if not graph.explored[i]:\n",
    "            graph.s = i\n",
    "            dfs(graph, i)\n",
    "    \n",
    "def dfs(graph, i):\n",
    "    graph.explored = (i, True)\n",
    "    graph.leaders[i]  = graph.s\n",
    "    for v1, v2 in graph.edges:\n",
    "        if not graph.explored[v2]:\n",
    "            dfs(graph, v2)\n",
    "    graph.t += 1\n",
    "    graph.f[k] = t"
   ]
  },
  {
   "cell_type": "code",
   "execution_count": 35,
   "metadata": {
    "scrolled": true
   },
   "outputs": [
    {
     "ename": "RecursionError",
     "evalue": "maximum recursion depth exceeded in comparison",
     "output_type": "error",
     "traceback": [
      "\u001B[1;31m---------------------------------------------------------------------------\u001B[0m",
      "\u001B[1;31mRecursionError\u001B[0m                            Traceback (most recent call last)",
      "\u001B[1;32m<ipython-input-35-3b5a4ec95ee2>\u001B[0m in \u001B[0;36m<module>\u001B[1;34m\u001B[0m\n\u001B[0;32m      1\u001B[0m \u001B[0mG\u001B[0m \u001B[1;33m=\u001B[0m \u001B[0mGraph\u001B[0m\u001B[1;33m(\u001B[0m\u001B[0mfile\u001B[0m\u001B[1;33m)\u001B[0m\u001B[1;33m\u001B[0m\u001B[1;33m\u001B[0m\u001B[0m\n\u001B[1;32m----> 2\u001B[1;33m \u001B[0mdfs_loop\u001B[0m\u001B[1;33m(\u001B[0m\u001B[0mG\u001B[0m\u001B[1;33m)\u001B[0m\u001B[1;33m\u001B[0m\u001B[1;33m\u001B[0m\u001B[0m\n\u001B[0m",
      "\u001B[1;32m<ipython-input-34-773fba6faa38>\u001B[0m in \u001B[0;36mdfs_loop\u001B[1;34m(graph)\u001B[0m\n\u001B[0;32m      4\u001B[0m         \u001B[1;32mif\u001B[0m \u001B[1;32mnot\u001B[0m \u001B[0mgraph\u001B[0m\u001B[1;33m.\u001B[0m\u001B[0mexplored\u001B[0m\u001B[1;33m[\u001B[0m\u001B[0mi\u001B[0m\u001B[1;33m]\u001B[0m\u001B[1;33m:\u001B[0m\u001B[1;33m\u001B[0m\u001B[1;33m\u001B[0m\u001B[0m\n\u001B[0;32m      5\u001B[0m             \u001B[0mgraph\u001B[0m\u001B[1;33m.\u001B[0m\u001B[0ms\u001B[0m \u001B[1;33m=\u001B[0m \u001B[0mi\u001B[0m\u001B[1;33m\u001B[0m\u001B[1;33m\u001B[0m\u001B[0m\n\u001B[1;32m----> 6\u001B[1;33m             \u001B[0mdfs\u001B[0m\u001B[1;33m(\u001B[0m\u001B[0mgraph\u001B[0m\u001B[1;33m,\u001B[0m \u001B[0mi\u001B[0m\u001B[1;33m)\u001B[0m\u001B[1;33m\u001B[0m\u001B[1;33m\u001B[0m\u001B[0m\n\u001B[0m\u001B[0;32m      7\u001B[0m \u001B[1;33m\u001B[0m\u001B[0m\n\u001B[0;32m      8\u001B[0m \u001B[1;32mdef\u001B[0m \u001B[0mdfs\u001B[0m\u001B[1;33m(\u001B[0m\u001B[0mgraph\u001B[0m\u001B[1;33m,\u001B[0m \u001B[0mi\u001B[0m\u001B[1;33m)\u001B[0m\u001B[1;33m:\u001B[0m\u001B[1;33m\u001B[0m\u001B[1;33m\u001B[0m\u001B[0m\n",
      "\u001B[1;32m<ipython-input-34-773fba6faa38>\u001B[0m in \u001B[0;36mdfs\u001B[1;34m(graph, i)\u001B[0m\n\u001B[0;32m     11\u001B[0m     \u001B[1;32mfor\u001B[0m \u001B[0mv1\u001B[0m\u001B[1;33m,\u001B[0m \u001B[0mv2\u001B[0m \u001B[1;32min\u001B[0m \u001B[0mgraph\u001B[0m\u001B[1;33m.\u001B[0m\u001B[0medges\u001B[0m\u001B[1;33m:\u001B[0m\u001B[1;33m\u001B[0m\u001B[1;33m\u001B[0m\u001B[0m\n\u001B[0;32m     12\u001B[0m         \u001B[1;32mif\u001B[0m \u001B[1;32mnot\u001B[0m \u001B[0mgraph\u001B[0m\u001B[1;33m.\u001B[0m\u001B[0mexplored\u001B[0m\u001B[1;33m[\u001B[0m\u001B[0mv2\u001B[0m\u001B[1;33m]\u001B[0m\u001B[1;33m:\u001B[0m\u001B[1;33m\u001B[0m\u001B[1;33m\u001B[0m\u001B[0m\n\u001B[1;32m---> 13\u001B[1;33m             \u001B[0mdfs\u001B[0m\u001B[1;33m(\u001B[0m\u001B[0mgraph\u001B[0m\u001B[1;33m,\u001B[0m \u001B[0mv2\u001B[0m\u001B[1;33m)\u001B[0m\u001B[1;33m\u001B[0m\u001B[1;33m\u001B[0m\u001B[0m\n\u001B[0m\u001B[0;32m     14\u001B[0m     \u001B[0mgraph\u001B[0m\u001B[1;33m.\u001B[0m\u001B[0mt\u001B[0m \u001B[1;33m+=\u001B[0m \u001B[1;36m1\u001B[0m\u001B[1;33m\u001B[0m\u001B[1;33m\u001B[0m\u001B[0m\n\u001B[0;32m     15\u001B[0m     \u001B[0mgraph\u001B[0m\u001B[1;33m.\u001B[0m\u001B[0mf\u001B[0m\u001B[1;33m[\u001B[0m\u001B[0mk\u001B[0m\u001B[1;33m]\u001B[0m \u001B[1;33m=\u001B[0m \u001B[0mt\u001B[0m\u001B[1;33m\u001B[0m\u001B[1;33m\u001B[0m\u001B[0m\n",
      "... last 1 frames repeated, from the frame below ...\n",
      "\u001B[1;32m<ipython-input-34-773fba6faa38>\u001B[0m in \u001B[0;36mdfs\u001B[1;34m(graph, i)\u001B[0m\n\u001B[0;32m     11\u001B[0m     \u001B[1;32mfor\u001B[0m \u001B[0mv1\u001B[0m\u001B[1;33m,\u001B[0m \u001B[0mv2\u001B[0m \u001B[1;32min\u001B[0m \u001B[0mgraph\u001B[0m\u001B[1;33m.\u001B[0m\u001B[0medges\u001B[0m\u001B[1;33m:\u001B[0m\u001B[1;33m\u001B[0m\u001B[1;33m\u001B[0m\u001B[0m\n\u001B[0;32m     12\u001B[0m         \u001B[1;32mif\u001B[0m \u001B[1;32mnot\u001B[0m \u001B[0mgraph\u001B[0m\u001B[1;33m.\u001B[0m\u001B[0mexplored\u001B[0m\u001B[1;33m[\u001B[0m\u001B[0mv2\u001B[0m\u001B[1;33m]\u001B[0m\u001B[1;33m:\u001B[0m\u001B[1;33m\u001B[0m\u001B[1;33m\u001B[0m\u001B[0m\n\u001B[1;32m---> 13\u001B[1;33m             \u001B[0mdfs\u001B[0m\u001B[1;33m(\u001B[0m\u001B[0mgraph\u001B[0m\u001B[1;33m,\u001B[0m \u001B[0mv2\u001B[0m\u001B[1;33m)\u001B[0m\u001B[1;33m\u001B[0m\u001B[1;33m\u001B[0m\u001B[0m\n\u001B[0m\u001B[0;32m     14\u001B[0m     \u001B[0mgraph\u001B[0m\u001B[1;33m.\u001B[0m\u001B[0mt\u001B[0m \u001B[1;33m+=\u001B[0m \u001B[1;36m1\u001B[0m\u001B[1;33m\u001B[0m\u001B[1;33m\u001B[0m\u001B[0m\n\u001B[0;32m     15\u001B[0m     \u001B[0mgraph\u001B[0m\u001B[1;33m.\u001B[0m\u001B[0mf\u001B[0m\u001B[1;33m[\u001B[0m\u001B[0mk\u001B[0m\u001B[1;33m]\u001B[0m \u001B[1;33m=\u001B[0m \u001B[0mt\u001B[0m\u001B[1;33m\u001B[0m\u001B[1;33m\u001B[0m\u001B[0m\n",
      "\u001B[1;31mRecursionError\u001B[0m: maximum recursion depth exceeded in comparison"
     ]
    }
   ],
   "source": [
    "G = Graph(file)\n",
    "dfs_loop(G)"
   ]
  }
 ],
 "metadata": {
  "kernelspec": {
   "display_name": "Python 3",
   "language": "python",
   "name": "python3"
  },
  "language_info": {
   "codemirror_mode": {
    "name": "ipython",
    "version": 3
   },
   "file_extension": ".py",
   "mimetype": "text/x-python",
   "name": "python",
   "nbconvert_exporter": "python",
   "pygments_lexer": "ipython3",
   "version": "3.8.3"
  }
 },
 "nbformat": 4,
 "nbformat_minor": 1
}