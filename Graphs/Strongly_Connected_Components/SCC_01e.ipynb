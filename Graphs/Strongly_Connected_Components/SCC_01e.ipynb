{
 "cells": [
  {
   "cell_type": "code",
   "execution_count": 2,
   "metadata": {},
   "outputs": [],
   "source": [
    "from collections import deque\n",
    "import numpy as np\n",
    "import io\n",
    "\n",
    "file = \"./data_SCC.txt\"\n",
    "test_file = \"./data_SCC_test.txt\"\n",
    "\n",
    "class Graph:\n",
    "    \n",
    "    \n",
    "    def __init__(self, data_edges, reverse=False):\n",
    "        self.reverse = reverse\n",
    "        if reverse:\n",
    "            self.edges = [list(map(int, line.split())) for line in io.open(data_edges).readlines()]\n",
    "        else:\n",
    "            self.edges = [list(map(int, line.split())) for line in io.open(data_edges).readlines()]\n",
    "        self.graph_size = np.max(self.edges)\n",
    "        self._explored = {v:False for v in [*self.verteces]}\n",
    "        self.t = 0   # time\n",
    "        self.f = deque()  # finishing time\n",
    "        self.s = None \n",
    "        self._leaders = {} # self.empty_vert.copy()\n",
    "        # self.counter = {}\n",
    "        self.start_order = [n for n in range(self.graph_size, 1, -1)]\n",
    "\n",
    "    # @property\n",
    "    # def graph_size(self):\n",
    "    #     print(\"graph_size =\", np.max(self.edges))\n",
    "    #     return np.max(self.edges)\n",
    "\n",
    "    @property\n",
    "    def empty_vert(self):\n",
    "        self._empty_vert = {v:[] for v in range(1, self.graph_size + 1)}  #\n",
    "        return self._empty_vert\n",
    "        \n",
    "    @property\n",
    "    def verteces(self):\n",
    "        self._verteces = self.empty_vert.copy()\n",
    "        if self.reverse:\n",
    "            for v1, v2 in self.edges:\n",
    "                self._verteces[v2].append(v1)\n",
    "        else:\n",
    "            for v1, v2 in self.edges:\n",
    "                self._verteces[v1].append(v2)\n",
    "        return self._verteces\n",
    "    \n",
    "    @property\n",
    "    def explored(self):\n",
    "        return self._explored\n",
    "    \n",
    "    @explored.setter\n",
    "    def explored(self, tuple_val):\n",
    "        if tuple_val == \"reset\":\n",
    "            self._explored = {v:False for v in [*self.verteces]}\n",
    "        else:\n",
    "            i, val = tuple_val\n",
    "            self._explored[i] = val\n",
    "\n",
    "    @property\n",
    "    def leader(self):\n",
    "        return self._leaders\n",
    "\n",
    "    @leader.setter\n",
    "    def leader(self, s_v):\n",
    "        s, v = s_v\n",
    "        if not s in self._leaders:\n",
    "            self._leaders[s] = []\n",
    "        self._leaders[s].append(v)\n",
    "\n",
    "    @property\n",
    "    def leader_calc(self):\n",
    "        self.counter = sorted([len(val) for val in self._leaders.values()], reverse=True)\n",
    "        print(\"Count leaders:\", self.counter)\n",
    "        return self.counter\n",
    "\n",
    "#     @property\n",
    "#     def f(self):\n",
    "#         if self._f is None:\n",
    "#             self._f = {v:v for v in range(1, np.max(np.max(self.edges)) + 1)}\n",
    "#         return self._f\n",
    "# #         else:\n",
    "# #             return self._f\n",
    "#\n",
    "#     @f.setter\n",
    "#     def f(self, tuple_val):\n",
    "#         i, val = tuple_val\n",
    "#         self._f[i] = val"
   ]
  },
  {
   "cell_type": "code",
   "execution_count": 3,
   "metadata": {},
   "outputs": [],
   "source": [
    "def kosaraju(rev_graph, graph):\n",
    "    dfs_loop(rev_graph, stack=graph.start_order)\n",
    "    graph.f = rev_graph.f               # pass finishing time from reverse_graph to graph\n",
    "    dfs_loop(graph, stack=graph.f)\n",
    "    return graph.leader_calc\n",
    "\n",
    "def dfs_loop(graph, stack):\n",
    "    \"\"\" stack must be reverse vertices (n to 1) for first pass and finishing times (n to 1)\"\"\"\n",
    "    for i in stack:                     # start_order (first pass) or f_times (second)\n",
    "        if not graph.explored[i]:\n",
    "            graph.s = i                 # get the leader\n",
    "            dfs(graph, i)\n",
    "            # graph.counter[i] = len(graph.leaders[i])    # calc len the leader's list == how big the SCC\n",
    "    \n",
    "def dfs(graph, i):\n",
    "    graph.explored = (i, True)          # mark as explored the vertex\n",
    "    graph.leaders = (graph.s, i)        # collect vertex in leader[s]-list\n",
    "    for v1, v2 in graph.edges:          # for each arc in (i,j) in G\n",
    "        if not graph.explored[v2]:\n",
    "            dfs(graph, v2)\n",
    "    graph.t += 1                        # increment t\n",
    "    graph.f.appendleft(graph.t)         # [n, ..., t, ..., 1] - finishing time stack for second dfs_loop"
   ]
  },
  {
   "cell_type": "code",
   "execution_count": 4,
   "metadata": {},
   "outputs": [
    {
     "ename": "RuntimeError",
     "evalue": "deque mutated during iteration",
     "output_type": "error",
     "traceback": [
      "\u001B[1;31m---------------------------------------------------------------------------\u001B[0m",
      "\u001B[1;31mRuntimeError\u001B[0m                              Traceback (most recent call last)",
      "\u001B[1;32m<ipython-input-4-2755114a3e1a>\u001B[0m in \u001B[0;36m<module>\u001B[1;34m\u001B[0m\n\u001B[0;32m      7\u001B[0m     \u001B[0mG_test1\u001B[0m \u001B[1;33m=\u001B[0m \u001B[0mGraph\u001B[0m\u001B[1;33m(\u001B[0m\u001B[0mtest1\u001B[0m\u001B[1;33m)\u001B[0m\u001B[1;33m\u001B[0m\u001B[1;33m\u001B[0m\u001B[0m\n\u001B[0;32m      8\u001B[0m     \u001B[0mrev_G_test1\u001B[0m \u001B[1;33m=\u001B[0m \u001B[0mGraph\u001B[0m\u001B[1;33m(\u001B[0m\u001B[0mtest1\u001B[0m\u001B[1;33m,\u001B[0m \u001B[0mreverse\u001B[0m\u001B[1;33m=\u001B[0m\u001B[1;32mTrue\u001B[0m\u001B[1;33m)\u001B[0m\u001B[1;33m\u001B[0m\u001B[1;33m\u001B[0m\u001B[0m\n\u001B[1;32m----> 9\u001B[1;33m     \u001B[0mSCC\u001B[0m \u001B[1;33m=\u001B[0m \u001B[0mkosaraju\u001B[0m\u001B[1;33m(\u001B[0m\u001B[0mG_test1\u001B[0m\u001B[1;33m,\u001B[0m \u001B[0mrev_G_test1\u001B[0m\u001B[1;33m)\u001B[0m\u001B[1;33m\u001B[0m\u001B[1;33m\u001B[0m\u001B[0m\n\u001B[0m\u001B[0;32m     10\u001B[0m     \u001B[0mprint\u001B[0m\u001B[1;33m(\u001B[0m\u001B[0mSCC\u001B[0m\u001B[1;33m)\u001B[0m\u001B[1;33m\u001B[0m\u001B[1;33m\u001B[0m\u001B[0m\n\u001B[0;32m     11\u001B[0m \u001B[1;33m\u001B[0m\u001B[0m\n",
      "\u001B[1;32m<ipython-input-3-73d440a34fe6>\u001B[0m in \u001B[0;36mkosaraju\u001B[1;34m(rev_graph, graph)\u001B[0m\n\u001B[0;32m      2\u001B[0m     \u001B[0mdfs_loop\u001B[0m\u001B[1;33m(\u001B[0m\u001B[0mrev_graph\u001B[0m\u001B[1;33m,\u001B[0m \u001B[0mstack\u001B[0m\u001B[1;33m=\u001B[0m\u001B[0mgraph\u001B[0m\u001B[1;33m.\u001B[0m\u001B[0mstart_order\u001B[0m\u001B[1;33m)\u001B[0m\u001B[1;33m\u001B[0m\u001B[1;33m\u001B[0m\u001B[0m\n\u001B[0;32m      3\u001B[0m     \u001B[0mgraph\u001B[0m\u001B[1;33m.\u001B[0m\u001B[0mf\u001B[0m \u001B[1;33m=\u001B[0m \u001B[0mrev_graph\u001B[0m\u001B[1;33m.\u001B[0m\u001B[0mf\u001B[0m               \u001B[1;31m# pass finishing time from reverse_graph to graph\u001B[0m\u001B[1;33m\u001B[0m\u001B[1;33m\u001B[0m\u001B[0m\n\u001B[1;32m----> 4\u001B[1;33m     \u001B[0mdfs_loop\u001B[0m\u001B[1;33m(\u001B[0m\u001B[0mgraph\u001B[0m\u001B[1;33m,\u001B[0m \u001B[0mstack\u001B[0m\u001B[1;33m=\u001B[0m\u001B[0mgraph\u001B[0m\u001B[1;33m.\u001B[0m\u001B[0mf\u001B[0m\u001B[1;33m)\u001B[0m\u001B[1;33m\u001B[0m\u001B[1;33m\u001B[0m\u001B[0m\n\u001B[0m\u001B[0;32m      5\u001B[0m     \u001B[1;32mreturn\u001B[0m \u001B[0mgraph\u001B[0m\u001B[1;33m.\u001B[0m\u001B[0mleader_calc\u001B[0m\u001B[1;33m\u001B[0m\u001B[1;33m\u001B[0m\u001B[0m\n\u001B[0;32m      6\u001B[0m \u001B[1;33m\u001B[0m\u001B[0m\n",
      "\u001B[1;32m<ipython-input-3-73d440a34fe6>\u001B[0m in \u001B[0;36mdfs_loop\u001B[1;34m(graph, stack)\u001B[0m\n\u001B[0;32m      7\u001B[0m \u001B[1;32mdef\u001B[0m \u001B[0mdfs_loop\u001B[0m\u001B[1;33m(\u001B[0m\u001B[0mgraph\u001B[0m\u001B[1;33m,\u001B[0m \u001B[0mstack\u001B[0m\u001B[1;33m)\u001B[0m\u001B[1;33m:\u001B[0m\u001B[1;33m\u001B[0m\u001B[1;33m\u001B[0m\u001B[0m\n\u001B[0;32m      8\u001B[0m     \u001B[1;34m\"\"\" stack must be reverse vertices (n to 1) for first pass and finishing times (n to 1)\"\"\"\u001B[0m\u001B[1;33m\u001B[0m\u001B[1;33m\u001B[0m\u001B[0m\n\u001B[1;32m----> 9\u001B[1;33m     \u001B[1;32mfor\u001B[0m \u001B[0mi\u001B[0m \u001B[1;32min\u001B[0m \u001B[0mstack\u001B[0m\u001B[1;33m:\u001B[0m                     \u001B[1;31m# start_order (first pass) or f_times (second)\u001B[0m\u001B[1;33m\u001B[0m\u001B[1;33m\u001B[0m\u001B[0m\n\u001B[0m\u001B[0;32m     10\u001B[0m         \u001B[1;32mif\u001B[0m \u001B[1;32mnot\u001B[0m \u001B[0mgraph\u001B[0m\u001B[1;33m.\u001B[0m\u001B[0mexplored\u001B[0m\u001B[1;33m[\u001B[0m\u001B[0mi\u001B[0m\u001B[1;33m]\u001B[0m\u001B[1;33m:\u001B[0m\u001B[1;33m\u001B[0m\u001B[1;33m\u001B[0m\u001B[0m\n\u001B[0;32m     11\u001B[0m             \u001B[0mgraph\u001B[0m\u001B[1;33m.\u001B[0m\u001B[0ms\u001B[0m \u001B[1;33m=\u001B[0m \u001B[0mi\u001B[0m                 \u001B[1;31m# get the leader\u001B[0m\u001B[1;33m\u001B[0m\u001B[1;33m\u001B[0m\u001B[0m\n",
      "\u001B[1;31mRuntimeError\u001B[0m: deque mutated during iteration"
     ]
    }
   ],
   "source": [
    "if __name__ == \"__main__\":\n",
    "    # ==================== Test cases =====================\n",
    "    from get_tests import filter_files\n",
    "    input_files = filter_files(\"./test_cases\")\n",
    "    test_cases_dir = \"./test_cases/\"\n",
    "    test1 = test_cases_dir + input_files[0]\n",
    "    G_test1 = Graph(test1)\n",
    "    rev_G_test1 = Graph(test1, reverse=True)\n",
    "    SCC = kosaraju(G_test1, rev_G_test1)\n",
    "    print(SCC)"
   ]
  },
  {
   "cell_type": "code",
   "execution_count": 69,
   "metadata": {},
   "outputs": [
    {
     "data": {
      "text/plain": [
       "{31: 31,\n",
       " 23: 31,\n",
       " 5: 31,\n",
       " 1: 31,\n",
       " 2: 31,\n",
       " 18: 31,\n",
       " 12: 31,\n",
       " 13: 31,\n",
       " 7: 31,\n",
       " 26: 31,\n",
       " 19: 31,\n",
       " 15: 31,\n",
       " 21: 31,\n",
       " 27: 31,\n",
       " 17: 31,\n",
       " 30: 31,\n",
       " 22: 31,\n",
       " 25: 31,\n",
       " 8: 31,\n",
       " 24: 31,\n",
       " 28: 31,\n",
       " 10: 31,\n",
       " 11: 31,\n",
       " 20: 31,\n",
       " 16: 31,\n",
       " 9: 31,\n",
       " 29: 31,\n",
       " 3: 31,\n",
       " 6: 31,\n",
       " 14: 31,\n",
       " 4: 4}"
      ]
     },
     "execution_count": 69,
     "metadata": {},
     "output_type": "execute_result"
    }
   ],
   "source": [
    "G_test1.leaders"
   ]
  },
  {
   "cell_type": "code",
   "execution_count": 2,
   "metadata": {
    "scrolled": true
   },
   "outputs": [
    {
     "name": "stdout",
     "output_type": "stream",
     "text": [
      "graph_size = 875714\n"
     ]
    },
    {
     "ename": "KeyError",
     "evalue": "875714",
     "output_type": "error",
     "traceback": [
      "\u001B[1;31m---------------------------------------------------------------------------\u001B[0m",
      "\u001B[1;31mKeyError\u001B[0m                                  Traceback (most recent call last)",
      "\u001B[1;32m<ipython-input-2-da2c7b3acbc1>\u001B[0m in \u001B[0;36m<module>\u001B[1;34m\u001B[0m\n\u001B[1;32m----> 1\u001B[1;33m \u001B[0mG\u001B[0m \u001B[1;33m=\u001B[0m \u001B[0mGraph\u001B[0m\u001B[1;33m(\u001B[0m\u001B[0mfile\u001B[0m\u001B[1;33m)\u001B[0m\u001B[1;33m\u001B[0m\u001B[1;33m\u001B[0m\u001B[0m\n\u001B[0m\u001B[0;32m      2\u001B[0m \u001B[1;31m# dfs_loop(G)\u001B[0m\u001B[1;33m\u001B[0m\u001B[1;33m\u001B[0m\u001B[1;33m\u001B[0m\u001B[0m\n\u001B[0;32m      3\u001B[0m \u001B[1;33m\u001B[0m\u001B[0m\n",
      "\u001B[1;32m<ipython-input-1-1f53dabc6fa6>\u001B[0m in \u001B[0;36m__init__\u001B[1;34m(self, data_edges, reverse)\u001B[0m\n\u001B[0;32m     15\u001B[0m         \u001B[1;32melse\u001B[0m\u001B[1;33m:\u001B[0m\u001B[1;33m\u001B[0m\u001B[1;33m\u001B[0m\u001B[0m\n\u001B[0;32m     16\u001B[0m             \u001B[0mself\u001B[0m\u001B[1;33m.\u001B[0m\u001B[0medges\u001B[0m \u001B[1;33m=\u001B[0m \u001B[1;33m[\u001B[0m\u001B[0mlist\u001B[0m\u001B[1;33m(\u001B[0m\u001B[0mmap\u001B[0m\u001B[1;33m(\u001B[0m\u001B[0mint\u001B[0m\u001B[1;33m,\u001B[0m \u001B[0mline\u001B[0m\u001B[1;33m.\u001B[0m\u001B[0msplit\u001B[0m\u001B[1;33m(\u001B[0m\u001B[1;33m)\u001B[0m\u001B[1;33m)\u001B[0m\u001B[1;33m)\u001B[0m \u001B[1;32mfor\u001B[0m \u001B[0mline\u001B[0m \u001B[1;32min\u001B[0m \u001B[0mio\u001B[0m\u001B[1;33m.\u001B[0m\u001B[0mopen\u001B[0m\u001B[1;33m(\u001B[0m\u001B[0mdata_edges\u001B[0m\u001B[1;33m)\u001B[0m\u001B[1;33m.\u001B[0m\u001B[0mreadlines\u001B[0m\u001B[1;33m(\u001B[0m\u001B[1;33m)\u001B[0m\u001B[1;33m]\u001B[0m\u001B[1;33m\u001B[0m\u001B[1;33m\u001B[0m\u001B[0m\n\u001B[1;32m---> 17\u001B[1;33m         \u001B[0mself\u001B[0m\u001B[1;33m.\u001B[0m\u001B[0m_explored\u001B[0m \u001B[1;33m=\u001B[0m \u001B[1;33m{\u001B[0m\u001B[0mv\u001B[0m\u001B[1;33m:\u001B[0m\u001B[1;32mFalse\u001B[0m \u001B[1;32mfor\u001B[0m \u001B[0mv\u001B[0m \u001B[1;32min\u001B[0m \u001B[1;33m[\u001B[0m\u001B[1;33m*\u001B[0m\u001B[0mself\u001B[0m\u001B[1;33m.\u001B[0m\u001B[0mverteces\u001B[0m\u001B[1;33m]\u001B[0m\u001B[1;33m}\u001B[0m\u001B[1;33m\u001B[0m\u001B[1;33m\u001B[0m\u001B[0m\n\u001B[0m\u001B[0;32m     18\u001B[0m         \u001B[0mself\u001B[0m\u001B[1;33m.\u001B[0m\u001B[0mt\u001B[0m \u001B[1;33m=\u001B[0m \u001B[1;36m0\u001B[0m   \u001B[1;31m# time\u001B[0m\u001B[1;33m\u001B[0m\u001B[1;33m\u001B[0m\u001B[0m\n\u001B[0;32m     19\u001B[0m         \u001B[0mself\u001B[0m\u001B[1;33m.\u001B[0m\u001B[0mf\u001B[0m \u001B[1;33m=\u001B[0m \u001B[0mdeque\u001B[0m\u001B[1;33m(\u001B[0m\u001B[1;33m)\u001B[0m  \u001B[1;31m# finishing time\u001B[0m\u001B[1;33m\u001B[0m\u001B[1;33m\u001B[0m\u001B[0m\n",
      "\u001B[1;32m<ipython-input-1-1f53dabc6fa6>\u001B[0m in \u001B[0;36mverteces\u001B[1;34m(self)\u001B[0m\n\u001B[0;32m     41\u001B[0m         \u001B[1;32melse\u001B[0m\u001B[1;33m:\u001B[0m\u001B[1;33m\u001B[0m\u001B[1;33m\u001B[0m\u001B[0m\n\u001B[0;32m     42\u001B[0m             \u001B[1;32mfor\u001B[0m \u001B[0mv1\u001B[0m\u001B[1;33m,\u001B[0m \u001B[0mv2\u001B[0m \u001B[1;32min\u001B[0m \u001B[0mself\u001B[0m\u001B[1;33m.\u001B[0m\u001B[0medges\u001B[0m\u001B[1;33m:\u001B[0m\u001B[1;33m\u001B[0m\u001B[1;33m\u001B[0m\u001B[0m\n\u001B[1;32m---> 43\u001B[1;33m                 \u001B[0mself\u001B[0m\u001B[1;33m.\u001B[0m\u001B[0m_verteces\u001B[0m\u001B[1;33m[\u001B[0m\u001B[0mv1\u001B[0m\u001B[1;33m]\u001B[0m\u001B[1;33m.\u001B[0m\u001B[0mappend\u001B[0m\u001B[1;33m(\u001B[0m\u001B[0mv2\u001B[0m\u001B[1;33m)\u001B[0m\u001B[1;33m\u001B[0m\u001B[1;33m\u001B[0m\u001B[0m\n\u001B[0m\u001B[0;32m     44\u001B[0m         \u001B[1;32mreturn\u001B[0m \u001B[0mself\u001B[0m\u001B[1;33m.\u001B[0m\u001B[0m_verteces\u001B[0m\u001B[1;33m\u001B[0m\u001B[1;33m\u001B[0m\u001B[0m\n\u001B[0;32m     45\u001B[0m \u001B[1;33m\u001B[0m\u001B[0m\n",
      "\u001B[1;31mKeyError\u001B[0m: 875714"
     ]
    }
   ],
   "source": [
    "# G = Graph(file)\n",
    "# dfs_loop(G)"
   ]
  },
  {
   "cell_type": "code",
   "execution_count": 3,
   "metadata": {},
   "outputs": [
    {
     "data": {
      "text/plain": [
       "{1, 2}"
      ]
     },
     "execution_count": 3,
     "metadata": {},
     "output_type": "execute_result"
    }
   ],
   "source": [
    "list.\n",
    "a = {1: {1,2}}\n"
   ]
  }
 ],
 "metadata": {
  "kernelspec": {
   "display_name": "Python 3",
   "language": "python",
   "name": "python3"
  },
  "language_info": {
   "codemirror_mode": {
    "name": "ipython",
    "version": 3
   },
   "file_extension": ".py",
   "mimetype": "text/x-python",
   "name": "python",
   "nbconvert_exporter": "python",
   "pygments_lexer": "ipython3",
   "version": "3.8.3"
  }
 },
 "nbformat": 4,
 "nbformat_minor": 1
}