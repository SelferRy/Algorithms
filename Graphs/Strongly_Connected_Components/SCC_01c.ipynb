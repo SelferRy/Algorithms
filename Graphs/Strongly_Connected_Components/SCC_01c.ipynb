{
 "cells": [
  {
   "cell_type": "code",
   "execution_count": 64,
   "metadata": {},
   "outputs": [
    {
     "data": {
      "text/plain": [
       "dict_keys(['edges', '_empty_vert', '_verteces', '_explored', 't', 'f', 's', 'leaders'])"
      ]
     },
     "execution_count": 64,
     "metadata": {},
     "output_type": "execute_result"
    }
   ],
   "source": [
    "import numpy as np\n",
    "import io\n",
    "\n",
    "file = \"./data_SCC.txt\"\n",
    "test_file = \"./data_SCC_test.txt\"\n",
    "\n",
    "class Graph:\n",
    "    \n",
    "    \n",
    "    def __init__(self, data_edges, reverse=False):\n",
    "        self.edges = [list(map(int, line.split())) for line in io.open(data_edges).readlines()]\n",
    "        self._explored = {v:False for v in [*self.verteces]}\n",
    "        self.t = 0   # time\n",
    "        self.f = {}  # finishing time\n",
    "        self.s = None \n",
    "        self.leaders = {}\n",
    "        self.reverse = reverse\n",
    "        self.counter = {}\n",
    "\n",
    "    @property\n",
    "    def empty_vert(self):\n",
    "        self._empty_vert = {v:[] for v in range(1, np.max(np.max(self.edges)) + 1)}\n",
    "        return self._empty_vert\n",
    "        \n",
    "    @property\n",
    "    def verteces(self):\n",
    "        self._verteces = self.empty_vert.copy()\n",
    "        if self.reverse:\n",
    "            for v1, v2 in self.edges:\n",
    "            self._verteces[v2].append(v1)\n",
    "        else:\n",
    "            for v1, v2 in self.edges:\n",
    "            self._verteces[v1].append(v2)\n",
    "        return self._verteces\n",
    "    \n",
    "    @property\n",
    "    def explored(self):\n",
    "        return self._explored\n",
    "    \n",
    "    @explored.setter\n",
    "    def explored(self, tuple_val):\n",
    "        i, val = tuple_val\n",
    "        self._explored[i] = val\n",
    "\n",
    "        \n",
    "G = Graph(test_file)\n",
    "# {v:False for v in [*G.verteces]}\n",
    "# print(G.explored)\n",
    "# G.explored = (1, True)\n",
    "# G.explored\n",
    "G.__dict__.keys()"
   ]
  },
  {
   "cell_type": "code",
   "execution_count": 65,
   "metadata": {},
   "outputs": [],
   "source": [
    "def kosaraju(graph, rev_graph):\n",
    "    dfs_loop(rev_graph)\n",
    "    dfs_loop(graph)\n",
    "\n",
    "def dfs_loop(graph):\n",
    "    n = max(*graph.verteces) #+ 1\n",
    "    for i in range(n, 0, -1):\n",
    "        if not graph.explored[i]:\n",
    "            graph.s = i\n",
    "            dfs(graph, i)\n",
    "            graph.counter[i] = len(leaders[i])\n",
    "    \n",
    "def dfs(graph, i):\n",
    "    graph.explored = (i, True)\n",
    "    graph.leaders[i]  = graph.s\n",
    "    for v1, v2 in graph.edges:\n",
    "        if not graph.explored[v2]:\n",
    "            dfs(graph, v2)\n",
    "    graph.t += 1\n",
    "    graph.f[i] = graph.t"
   ]
  },
  {
   "cell_type": "code",
   "execution_count": 66,
   "metadata": {},
   "outputs": [],
   "source": [
    "from get_tests import folder_files, filter_files\n",
    "\n",
    "# all_files = folder_files(\"./test_cases\")\n",
    "input_files = filter_files(\"./test_cases\")\n",
    "test_cases_dir = \"./test_cases/\"\n",
    "path = test_cases_dir + input_files[0]\n",
    "G_test1 = Graph(path)\n",
    "rev_G_test1 = Graph(path, reverse=True)\n",
    "kosaraju(G_test1, rev_G_test1)"
   ]
  },
  {
   "cell_type": "code",
   "execution_count": 69,
   "metadata": {},
   "outputs": [
    {
     "data": {
      "text/plain": [
       "{31: 31,\n",
       " 23: 31,\n",
       " 5: 31,\n",
       " 1: 31,\n",
       " 2: 31,\n",
       " 18: 31,\n",
       " 12: 31,\n",
       " 13: 31,\n",
       " 7: 31,\n",
       " 26: 31,\n",
       " 19: 31,\n",
       " 15: 31,\n",
       " 21: 31,\n",
       " 27: 31,\n",
       " 17: 31,\n",
       " 30: 31,\n",
       " 22: 31,\n",
       " 25: 31,\n",
       " 8: 31,\n",
       " 24: 31,\n",
       " 28: 31,\n",
       " 10: 31,\n",
       " 11: 31,\n",
       " 20: 31,\n",
       " 16: 31,\n",
       " 9: 31,\n",
       " 29: 31,\n",
       " 3: 31,\n",
       " 6: 31,\n",
       " 14: 31,\n",
       " 4: 4}"
      ]
     },
     "execution_count": 69,
     "metadata": {},
     "output_type": "execute_result"
    }
   ],
   "source": [
    "G_test1.leaders"
   ]
  },
  {
   "cell_type": "code",
   "execution_count": 35,
   "metadata": {
    "scrolled": true
   },
   "outputs": [
    {
     "ename": "RecursionError",
     "evalue": "maximum recursion depth exceeded in comparison",
     "output_type": "error",
     "traceback": [
      "\u001b[1;31m---------------------------------------------------------------------------\u001b[0m",
      "\u001b[1;31mRecursionError\u001b[0m                            Traceback (most recent call last)",
      "\u001b[1;32m<ipython-input-35-3b5a4ec95ee2>\u001b[0m in \u001b[0;36m<module>\u001b[1;34m\u001b[0m\n\u001b[0;32m      1\u001b[0m \u001b[0mG\u001b[0m \u001b[1;33m=\u001b[0m \u001b[0mGraph\u001b[0m\u001b[1;33m(\u001b[0m\u001b[0mfile\u001b[0m\u001b[1;33m)\u001b[0m\u001b[1;33m\u001b[0m\u001b[1;33m\u001b[0m\u001b[0m\n\u001b[1;32m----> 2\u001b[1;33m \u001b[0mdfs_loop\u001b[0m\u001b[1;33m(\u001b[0m\u001b[0mG\u001b[0m\u001b[1;33m)\u001b[0m\u001b[1;33m\u001b[0m\u001b[1;33m\u001b[0m\u001b[0m\n\u001b[0m",
      "\u001b[1;32m<ipython-input-34-773fba6faa38>\u001b[0m in \u001b[0;36mdfs_loop\u001b[1;34m(graph)\u001b[0m\n\u001b[0;32m      4\u001b[0m         \u001b[1;32mif\u001b[0m \u001b[1;32mnot\u001b[0m \u001b[0mgraph\u001b[0m\u001b[1;33m.\u001b[0m\u001b[0mexplored\u001b[0m\u001b[1;33m[\u001b[0m\u001b[0mi\u001b[0m\u001b[1;33m]\u001b[0m\u001b[1;33m:\u001b[0m\u001b[1;33m\u001b[0m\u001b[1;33m\u001b[0m\u001b[0m\n\u001b[0;32m      5\u001b[0m             \u001b[0mgraph\u001b[0m\u001b[1;33m.\u001b[0m\u001b[0ms\u001b[0m \u001b[1;33m=\u001b[0m \u001b[0mi\u001b[0m\u001b[1;33m\u001b[0m\u001b[1;33m\u001b[0m\u001b[0m\n\u001b[1;32m----> 6\u001b[1;33m             \u001b[0mdfs\u001b[0m\u001b[1;33m(\u001b[0m\u001b[0mgraph\u001b[0m\u001b[1;33m,\u001b[0m \u001b[0mi\u001b[0m\u001b[1;33m)\u001b[0m\u001b[1;33m\u001b[0m\u001b[1;33m\u001b[0m\u001b[0m\n\u001b[0m\u001b[0;32m      7\u001b[0m \u001b[1;33m\u001b[0m\u001b[0m\n\u001b[0;32m      8\u001b[0m \u001b[1;32mdef\u001b[0m \u001b[0mdfs\u001b[0m\u001b[1;33m(\u001b[0m\u001b[0mgraph\u001b[0m\u001b[1;33m,\u001b[0m \u001b[0mi\u001b[0m\u001b[1;33m)\u001b[0m\u001b[1;33m:\u001b[0m\u001b[1;33m\u001b[0m\u001b[1;33m\u001b[0m\u001b[0m\n",
      "\u001b[1;32m<ipython-input-34-773fba6faa38>\u001b[0m in \u001b[0;36mdfs\u001b[1;34m(graph, i)\u001b[0m\n\u001b[0;32m     11\u001b[0m     \u001b[1;32mfor\u001b[0m \u001b[0mv1\u001b[0m\u001b[1;33m,\u001b[0m \u001b[0mv2\u001b[0m \u001b[1;32min\u001b[0m \u001b[0mgraph\u001b[0m\u001b[1;33m.\u001b[0m\u001b[0medges\u001b[0m\u001b[1;33m:\u001b[0m\u001b[1;33m\u001b[0m\u001b[1;33m\u001b[0m\u001b[0m\n\u001b[0;32m     12\u001b[0m         \u001b[1;32mif\u001b[0m \u001b[1;32mnot\u001b[0m \u001b[0mgraph\u001b[0m\u001b[1;33m.\u001b[0m\u001b[0mexplored\u001b[0m\u001b[1;33m[\u001b[0m\u001b[0mv2\u001b[0m\u001b[1;33m]\u001b[0m\u001b[1;33m:\u001b[0m\u001b[1;33m\u001b[0m\u001b[1;33m\u001b[0m\u001b[0m\n\u001b[1;32m---> 13\u001b[1;33m             \u001b[0mdfs\u001b[0m\u001b[1;33m(\u001b[0m\u001b[0mgraph\u001b[0m\u001b[1;33m,\u001b[0m \u001b[0mv2\u001b[0m\u001b[1;33m)\u001b[0m\u001b[1;33m\u001b[0m\u001b[1;33m\u001b[0m\u001b[0m\n\u001b[0m\u001b[0;32m     14\u001b[0m     \u001b[0mgraph\u001b[0m\u001b[1;33m.\u001b[0m\u001b[0mt\u001b[0m \u001b[1;33m+=\u001b[0m \u001b[1;36m1\u001b[0m\u001b[1;33m\u001b[0m\u001b[1;33m\u001b[0m\u001b[0m\n\u001b[0;32m     15\u001b[0m     \u001b[0mgraph\u001b[0m\u001b[1;33m.\u001b[0m\u001b[0mf\u001b[0m\u001b[1;33m[\u001b[0m\u001b[0mk\u001b[0m\u001b[1;33m]\u001b[0m \u001b[1;33m=\u001b[0m \u001b[0mt\u001b[0m\u001b[1;33m\u001b[0m\u001b[1;33m\u001b[0m\u001b[0m\n",
      "... last 1 frames repeated, from the frame below ...\n",
      "\u001b[1;32m<ipython-input-34-773fba6faa38>\u001b[0m in \u001b[0;36mdfs\u001b[1;34m(graph, i)\u001b[0m\n\u001b[0;32m     11\u001b[0m     \u001b[1;32mfor\u001b[0m \u001b[0mv1\u001b[0m\u001b[1;33m,\u001b[0m \u001b[0mv2\u001b[0m \u001b[1;32min\u001b[0m \u001b[0mgraph\u001b[0m\u001b[1;33m.\u001b[0m\u001b[0medges\u001b[0m\u001b[1;33m:\u001b[0m\u001b[1;33m\u001b[0m\u001b[1;33m\u001b[0m\u001b[0m\n\u001b[0;32m     12\u001b[0m         \u001b[1;32mif\u001b[0m \u001b[1;32mnot\u001b[0m \u001b[0mgraph\u001b[0m\u001b[1;33m.\u001b[0m\u001b[0mexplored\u001b[0m\u001b[1;33m[\u001b[0m\u001b[0mv2\u001b[0m\u001b[1;33m]\u001b[0m\u001b[1;33m:\u001b[0m\u001b[1;33m\u001b[0m\u001b[1;33m\u001b[0m\u001b[0m\n\u001b[1;32m---> 13\u001b[1;33m             \u001b[0mdfs\u001b[0m\u001b[1;33m(\u001b[0m\u001b[0mgraph\u001b[0m\u001b[1;33m,\u001b[0m \u001b[0mv2\u001b[0m\u001b[1;33m)\u001b[0m\u001b[1;33m\u001b[0m\u001b[1;33m\u001b[0m\u001b[0m\n\u001b[0m\u001b[0;32m     14\u001b[0m     \u001b[0mgraph\u001b[0m\u001b[1;33m.\u001b[0m\u001b[0mt\u001b[0m \u001b[1;33m+=\u001b[0m \u001b[1;36m1\u001b[0m\u001b[1;33m\u001b[0m\u001b[1;33m\u001b[0m\u001b[0m\n\u001b[0;32m     15\u001b[0m     \u001b[0mgraph\u001b[0m\u001b[1;33m.\u001b[0m\u001b[0mf\u001b[0m\u001b[1;33m[\u001b[0m\u001b[0mk\u001b[0m\u001b[1;33m]\u001b[0m \u001b[1;33m=\u001b[0m \u001b[0mt\u001b[0m\u001b[1;33m\u001b[0m\u001b[1;33m\u001b[0m\u001b[0m\n",
      "\u001b[1;31mRecursionError\u001b[0m: maximum recursion depth exceeded in comparison"
     ]
    }
   ],
   "source": [
    "# G = Graph(file)\n",
    "# dfs_loop(G)"
   ]
  },
  {
   "cell_type": "code",
   "execution_count": 67,
   "metadata": {},
   "outputs": [],
   "source": []
  }
 ],
 "metadata": {
  "kernelspec": {
   "display_name": "Python 3",
   "language": "python",
   "name": "python3"
  },
  "language_info": {
   "codemirror_mode": {
    "name": "ipython",
    "version": 3
   },
   "file_extension": ".py",
   "mimetype": "text/x-python",
   "name": "python",
   "nbconvert_exporter": "python",
   "pygments_lexer": "ipython3",
   "version": "3.8.3"
  }
 },
 "nbformat": 4,
 "nbformat_minor": 1
}
