{
 "cells": [
  {
   "cell_type": "code",
   "execution_count": 141,
   "metadata": {},
   "outputs": [
    {
     "name": "stdout",
     "output_type": "stream",
     "text": [
      "{1: False, 2: False, 875714: False}\n"
     ]
    },
    {
     "data": {
      "text/plain": [
       "{'edges': [[1, 1],\n",
       "  [1, 2],\n",
       "  [1, 5],\n",
       "  [1, 6],\n",
       "  [1, 7],\n",
       "  [1, 3],\n",
       "  [1, 8],\n",
       "  [1, 4],\n",
       "  [2, 47646],\n",
       "  [2, 47647],\n",
       "  [2, 13019],\n",
       "  [2, 47648],\n",
       "  [2, 47649],\n",
       "  [2, 47650],\n",
       "  [875714, 542449],\n",
       "  [875714, 542450],\n",
       "  [875714, 542451],\n",
       "  [875714, 542452],\n",
       "  [875714, 13660],\n",
       "  [875714, 9434],\n",
       "  [875714, 54245]],\n",
       " '_verteces': {1: [1, 2, 5, 6, 7, 3, 8, 4],\n",
       "  2: [47646, 47647, 13019, 47648, 47649, 47650],\n",
       "  875714: [542449, 542450, 542451, 542452, 13660, 9434, 54245]},\n",
       " '_explored': {1: False, 2: False, 875714: False}}"
      ]
     },
     "execution_count": 141,
     "metadata": {},
     "output_type": "execute_result"
    }
   ],
   "source": [
    "import io\n",
    "\n",
    "file = \"./data_SCC.txt\"\n",
    "test_file = \"./data_SCC_test.txt\"\n",
    "# edges = [list(map(int, line[:-2].split())) for line in io.open(file).readlines()]\n",
    "# graph = {edge[0]:[] for edge in edges}\n",
    "# r_graph = {edge[1]:[] for edge in edges}\n",
    "\n",
    "\n",
    "class Graph:\n",
    "    \n",
    "    t = 0   # time\n",
    "    f = {}  # finishing time\n",
    "    s = None \n",
    "    leaders = {}\n",
    "    def __init__(self, data_edges):\n",
    "        self.edges = [list(map(int, line[:-2].split())) for line in io.open(data_edges).readlines()]\n",
    "        self._explored = {v:False for v in [*self.verteces]}\n",
    "\n",
    "    @property\n",
    "    def verteces(self):\n",
    "        self._verteces = {edge[0]:[] for edge in self.edges}\n",
    "        for v1, v2 in self.edges:\n",
    "            self._verteces[v1].append(v2)\n",
    "        return self._verteces\n",
    "    \n",
    "    @property\n",
    "    def r_verteces(self):\n",
    "        self._r_verteces = {edge[1]:[] for edge in self.edges}\n",
    "        for v1, v2 in self.edges:\n",
    "            self._r_verteces[v2].append(v1)\n",
    "        return self._r_verteces\n",
    "    \n",
    "#     explored = [*self.verteces]\n",
    "    @property\n",
    "    def explored(self):\n",
    "        return self._explored\n",
    "    \n",
    "    @explored.setter\n",
    "    def explored(self, tuple_val):\n",
    "        i, val = tuple_val\n",
    "        self._explored[i] = val\n",
    "#         print(self._explored)\n",
    "#         return self._explored\n",
    "\n",
    "        \n",
    "G = Graph(test_file)\n",
    "# {v:False for v in [*G.verteces]}\n",
    "print(G.explored)\n",
    "# G.__dict__"
   ]
  },
  {
   "cell_type": "code",
   "execution_count": 140,
   "metadata": {},
   "outputs": [
    {
     "name": "stdout",
     "output_type": "stream",
     "text": [
      "{1: True, 2: False, 875714: False}\n"
     ]
    },
    {
     "data": {
      "text/plain": [
       "{1: True, 2: False, 875714: False}"
      ]
     },
     "execution_count": 140,
     "metadata": {},
     "output_type": "execute_result"
    }
   ],
   "source": [
    "G.explored = (1, True)\n",
    "G.explored"
   ]
  },
  {
   "cell_type": "code",
   "execution_count": 106,
   "metadata": {
    "pycharm": {
     "name": "#%%\n"
    }
   },
   "outputs": [],
   "source": []
  },
  {
   "cell_type": "code",
   "execution_count": 114,
   "metadata": {},
   "outputs": [
    {
     "data": {
      "text/plain": [
       "{'edges': [[1, 1],\n",
       "  [1, 2],\n",
       "  [1, 5],\n",
       "  [1, 6],\n",
       "  [1, 7],\n",
       "  [1, 3],\n",
       "  [1, 8],\n",
       "  [1, 4],\n",
       "  [2, 47646],\n",
       "  [2, 47647],\n",
       "  [2, 13019],\n",
       "  [2, 47648],\n",
       "  [2, 47649],\n",
       "  [2, 47650],\n",
       "  [875714, 542449],\n",
       "  [875714, 542450],\n",
       "  [875714, 542451],\n",
       "  [875714, 542452],\n",
       "  [875714, 13660],\n",
       "  [875714, 9434],\n",
       "  [875714, 54245]],\n",
       " 'f_time': {2: 10, 1: -300}}"
      ]
     },
     "execution_count": 114,
     "metadata": {},
     "output_type": "execute_result"
    }
   ],
   "source": [
    "G.f_time = {}\n",
    "G.f_time[2] = 10\n",
    "G.f_time[1] = -300\n",
    "G.__dict__ # "
   ]
  },
  {
   "cell_type": "markdown",
   "metadata": {},
   "source": [
    "```python\n",
    "s = 100\n",
    "def outer():\n",
    "    s = 10\n",
    "    def b():\n",
    "        nonlocal s\n",
    "        print(s)\n",
    "    b()\n",
    "    \n",
    "outer()\n",
    "```"
   ]
  },
  {
   "cell_type": "code",
   "execution_count": null,
   "metadata": {},
   "outputs": [],
   "source": [
    "t = 0\n",
    "s = None\n",
    "f = {v:[] for v in [*graph]}\n",
    "def dfs_loop(graph):\n",
    "#     global t\n",
    "#     global s\n",
    "    for i in range(max(*graph) + 1, 1, -1):\n",
    "        if not explored[i]:\n",
    "            graph.s = i\n",
    "            dfs(graph, i)\n",
    "    \n",
    "def dfs(graph, i):\n",
    "#     nonlocal s\n",
    "    graph.explored = (i, True)\n",
    "    graph.leaders[i]  = graph.s\n",
    "    for v1, v2 in graph.edges:\n",
    "        if not graph.explored[v2]:\n",
    "            dfs(graph, j)\n",
    "    graph.t += 1\n",
    "    graph.f[k] = t"
   ]
  },
  {
   "cell_type": "code",
   "execution_count": null,
   "metadata": {},
   "outputs": [],
   "source": [
    "# vert = [*graph]\n",
    "# MAX = max(vert) + 1\n",
    "# excludes = [i for i in range(MAX) if not i in vert]\n",
    "# # excludes"
   ]
  },
  {
   "cell_type": "code",
   "execution_count": 4,
   "metadata": {},
   "outputs": [
    {
     "data": {
      "text/plain": [
       "[0, 1, 2, 3, 4, 5, 6, 7, 8, 9, 10, 11, 12, 13, 14, 15]"
      ]
     },
     "execution_count": 4,
     "metadata": {},
     "output_type": "execute_result"
    }
   ],
   "source": [
    "# [i for i in range(875715) if 10 < i < 15]\n",
    "[i for i in range(875715) if not i > 15]"
   ]
  },
  {
   "cell_type": "code",
   "execution_count": 11,
   "metadata": {
    "scrolled": false
   },
   "outputs": [
    {
     "data": {
      "text/plain": [
       "(739454, 714547)"
      ]
     },
     "execution_count": 11,
     "metadata": {},
     "output_type": "execute_result"
    }
   ],
   "source": [
    "len(graph), len(r_graph)"
   ]
  },
  {
   "cell_type": "code",
   "execution_count": 14,
   "metadata": {},
   "outputs": [
    {
     "data": {
      "text/plain": [
       "[875714]"
      ]
     },
     "execution_count": 14,
     "metadata": {},
     "output_type": "execute_result"
    }
   ],
   "source": []
  }
 ],
 "metadata": {
  "kernelspec": {
   "display_name": "Python 3",
   "language": "python",
   "name": "python3"
  },
  "language_info": {
   "codemirror_mode": {
    "name": "ipython",
    "version": 3
   },
   "file_extension": ".py",
   "mimetype": "text/x-python",
   "name": "python",
   "nbconvert_exporter": "python",
   "pygments_lexer": "ipython3",
   "version": "3.8.3"
  }
 },
 "nbformat": 4,
 "nbformat_minor": 1
}