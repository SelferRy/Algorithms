{
 "cells": [
  {
   "cell_type": "markdown",
   "metadata": {},
   "source": [
    "``` python\n",
    "# ======================== Drafts ========================\n",
    "graph = {int(line.split()[0]):[] for line in data}\n",
    "# r_graph = {int(line.split()[1]):[] for line in data}\n",
    "\n",
    "graph = {graph[int(k)].append(int(v)) for k, v in line.split() for line in data}\n",
    "\n",
    "\n",
    "graph = {graph[k].append(v) for k, v in data}\n",
    "\n",
    "# a = {k:[v] if not (k in a) else a[k].append(v) for k, v in data}\n",
    "# a\n",
    "\n",
    "{k:v for k, v in [[1, 2], [3, 4]]}\n",
    "\n",
    "A = {1: 2}\n",
    "A[1] = 3\n",
    "A\n",
    "\n",
    "lst = [[1, 2], [1, 3]]\n",
    "A = {k:v for k, v in lst}\n",
    "A\n",
    "\n",
    "# B = {\"A\": 1}\n",
    "# \"A\" in B\n",
    "\n",
    "# A = {}\n",
    "# for  in lst:\n",
    "#     if k in A:\n",
    "#         A[k].append()\n",
    "\n",
    "# from collections import deque\n",
    "\n",
    "# stack = deque()\n",
    "# stack.append(1)\n",
    "# stack?\n",
    "\n",
    "len(graph), len(r_graph)\n",
    "```"
   ]
  },
  {
   "cell_type": "code",
   "execution_count": 1,
   "metadata": {},
   "outputs": [],
   "source": [
    "import io"
   ]
  },
  {
   "cell_type": "code",
   "execution_count": 2,
   "metadata": {
    "scrolled": true
   },
   "outputs": [],
   "source": [
    "file = \"./data_SCC.txt\"\n",
    "edges = [list(map(int, line[:-2].split())) for line in io.open(file).readlines()]\n",
    "graph = {edge[0]:[] for edge in edges}\n",
    "r_graph = {edge[1]:[] for edge in edges}"
   ]
  },
  {
   "cell_type": "code",
   "execution_count": 3,
   "metadata": {},
   "outputs": [],
   "source": [
    "for v1, v2 in edges:\n",
    "    graph[v1].append(v2)\n",
    "    r_graph[v2].append(v1)"
   ]
  },
  {
   "cell_type": "code",
   "execution_count": 9,
   "metadata": {
    "scrolled": false
   },
   "outputs": [
    {
     "data": {
      "text/plain": [
       "[5, 17, 53195, 53199, 53200, 53203, 53207, 541468, 777412]"
      ]
     },
     "execution_count": 9,
     "metadata": {},
     "output_type": "execute_result"
    }
   ],
   "source": [
    "r_graph[11]"
   ]
  },
  {
   "cell_type": "code",
   "execution_count": 4,
   "metadata": {},
   "outputs": [],
   "source": [
    "leaders = graph.copy()"
   ]
  },
  {
   "cell_type": "code",
   "execution_count": 24,
   "metadata": {},
   "outputs": [
    {
     "name": "stdout",
     "output_type": "stream",
     "text": [
      "10\n"
     ]
    }
   ],
   "source": [
    "s = 100\n",
    "def outer():\n",
    "    s = 10\n",
    "    def b():\n",
    "        nonlocal s\n",
    "        print(s)\n",
    "    b()\n",
    "    \n",
    "outer()"
   ]
  },
  {
   "cell_type": "code",
   "execution_count": null,
   "metadata": {},
   "outputs": [],
   "source": [
    "t = 0\n",
    "s = None\n",
    "f = {v:[] for v in [*graph]}\n",
    "def dfs_loop(graph):\n",
    "    global t\n",
    "    global s\n",
    "    for i in range(max(*graph) + 1, 1, -1):\n",
    "        if not explored[i]:\n",
    "            s = i\n",
    "            dfs(graph, i)\n",
    "    \n",
    "def dfs(graph, i):\n",
    "    nonlocal s\n",
    "    explored[i] = True\n",
    "    leaders[i]  = s\n",
    "    for v1, v2 in graph.edges:\n",
    "        if not explored[v2]:\n",
    "            dfs(graph, j)\n",
    "    t += 1\n",
    "    f[k] = t"
   ]
  },
  {
   "cell_type": "code",
   "execution_count": null,
   "metadata": {},
   "outputs": [],
   "source": [
    "# vert = [*graph]\n",
    "# MAX = max(vert) + 1\n",
    "# excludes = [i for i in range(MAX) if not i in vert]\n",
    "# # excludes"
   ]
  },
  {
   "cell_type": "code",
   "execution_count": 15,
   "metadata": {},
   "outputs": [
    {
     "ename": "KeyError",
     "evalue": "4",
     "output_type": "error",
     "traceback": [
      "\u001B[1;31m---------------------------------------------------------------------------\u001B[0m",
      "\u001B[1;31mKeyError\u001B[0m                                  Traceback (most recent call last)",
      "\u001B[1;32m<ipython-input-15-0a548d137409>\u001B[0m in \u001B[0;36m<module>\u001B[1;34m\u001B[0m\n\u001B[0;32m      1\u001B[0m \u001B[1;31m# excludes\u001B[0m\u001B[1;33m\u001B[0m\u001B[1;33m\u001B[0m\u001B[1;33m\u001B[0m\u001B[0m\n\u001B[0;32m      2\u001B[0m \u001B[1;31m# [*graph][3]\u001B[0m\u001B[1;33m\u001B[0m\u001B[1;33m\u001B[0m\u001B[1;33m\u001B[0m\u001B[0m\n\u001B[1;32m----> 3\u001B[1;33m \u001B[0mgraph\u001B[0m\u001B[1;33m[\u001B[0m\u001B[1;36m4\u001B[0m\u001B[1;33m]\u001B[0m\u001B[1;33m\u001B[0m\u001B[1;33m\u001B[0m\u001B[0m\n\u001B[0m",
      "\u001B[1;31mKeyError\u001B[0m: 4"
     ]
    }
   ],
   "source": [
    "graph[4]"
   ]
  },
  {
   "cell_type": "code",
   "execution_count": 4,
   "metadata": {},
   "outputs": [
    {
     "data": {
      "text/plain": [
       "[0, 1, 2, 3, 4, 5, 6, 7, 8, 9, 10, 11, 12, 13, 14, 15]"
      ]
     },
     "execution_count": 4,
     "metadata": {},
     "output_type": "execute_result"
    }
   ],
   "source": [
    "# [i for i in range(875715) if 10 < i < 15]\n",
    "[i for i in range(875715) if not i > 15]"
   ]
  },
  {
   "cell_type": "code",
   "execution_count": null,
   "metadata": {},
   "outputs": [],
   "source": []
  },
  {
   "cell_type": "code",
   "execution_count": 11,
   "metadata": {
    "scrolled": false
   },
   "outputs": [
    {
     "data": {
      "text/plain": [
       "(739454, 714547)"
      ]
     },
     "execution_count": 11,
     "metadata": {},
     "output_type": "execute_result"
    }
   ],
   "source": [
    "len(graph), len(r_graph)"
   ]
  },
  {
   "cell_type": "code",
   "execution_count": 14,
   "metadata": {},
   "outputs": [
    {
     "data": {
      "text/plain": [
       "[875714]"
      ]
     },
     "execution_count": 14,
     "metadata": {},
     "output_type": "execute_result"
    }
   ],
   "source": []
  }
 ],
 "metadata": {
  "kernelspec": {
   "display_name": "Python 3",
   "language": "python",
   "name": "python3"
  },
  "language_info": {
   "codemirror_mode": {
    "name": "ipython",
    "version": 3
   },
   "file_extension": ".py",
   "mimetype": "text/x-python",
   "name": "python",
   "nbconvert_exporter": "python",
   "pygments_lexer": "ipython3",
   "version": "3.8.3"
  }
 },
 "nbformat": 4,
 "nbformat_minor": 1
}