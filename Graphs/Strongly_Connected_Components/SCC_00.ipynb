{
 "cells": [
  {
   "cell_type": "code",
   "execution_count": 52,
   "metadata": {},
   "outputs": [],
   "source": [
    "import io\n",
    "\n",
    "file = \"./data_SCC.txt\"\n",
    "test_file = \"./data_SCC_test.txt\"\n",
    "# edges = [list(map(int, line[:-2].split())) for line in io.open(file).readlines()]\n",
    "# graph = {edge[0]:[] for edge in edges}\n",
    "# r_graph = {edge[1]:[] for edge in edges}\n",
    "\n",
    "\n",
    "class Graph:\n",
    "\n",
    "    def __init__(self, data_edges):\n",
    "        self.edges = [list(map(int, line[:-2].split())) for line in io.open(data_edges).readlines()]\n",
    "        self.verteces = None\n",
    "        self._r_verteces = None\n",
    "\n",
    "    @property\n",
    "    def get_verteces(self):\n",
    "        if self.verteces is None:\n",
    "            self.verteces = {edge[0]:[] for edge in self.edges}\n",
    "            self.r_verteces = {edge[1]:[] for edge in self.edges}\n",
    "            for v1, v2 in self.edges:\n",
    "                self.verteces[v1].append(v2)\n",
    "                self.r_verteces[v2].append(v1)\n",
    "        return self.verteces, self.r_verteces\n",
    "\n",
    "    @property\n",
    "    def leaders(self):\n",
    "        return self.verteces.copy()\n",
    "\n",
    "    @property\n",
    "    def f_time(self):\n",
    "        return self.verteces.copy()\n",
    "\n",
    "    @f_time.setter\n",
    "    def f_time(self, value):\n",
    "        if not isinstance(value, (int, float)):\n",
    "            raise ValueError(\"Value is not a number. Get number for finishing time value\")\n",
    "        self.f_time = value"
   ]
  },
  {
   "cell_type": "code",
   "execution_count": 53,
   "metadata": {
    "pycharm": {
     "name": "#%%\n"
    }
   },
   "outputs": [],
   "source": [
    "G = Graph(test_file)"
   ]
  },
  {
   "cell_type": "code",
   "execution_count": 65,
   "metadata": {},
   "outputs": [
    {
     "data": {
      "text/plain": [
       "{'edges': [[1, 1],\n",
       "  [1, 2],\n",
       "  [1, 5],\n",
       "  [1, 6],\n",
       "  [1, 7],\n",
       "  [1, 3],\n",
       "  [1, 8],\n",
       "  [1, 4],\n",
       "  [2, 47646],\n",
       "  [2, 47647],\n",
       "  [2, 13019],\n",
       "  [2, 47648],\n",
       "  [2, 47649],\n",
       "  [2, 47650],\n",
       "  [875714, 542449],\n",
       "  [875714, 542450],\n",
       "  [875714, 542451],\n",
       "  [875714, 542452],\n",
       "  [875714, 13660],\n",
       "  [875714, 9434],\n",
       "  [875714, 54245]],\n",
       " 'verteces': None,\n",
       " 'r_verteces': None}"
      ]
     },
     "execution_count": 65,
     "metadata": {},
     "output_type": "execute_result"
    }
   ],
   "source": [
    "G.__dict__"
   ]
  },
  {
   "cell_type": "code",
   "execution_count": 35,
   "metadata": {},
   "outputs": [
    {
     "data": {
      "text/plain": [
       "({1: [1, 2, 5, 6, 7, 3, 8, 4],\n",
       "  2: [47646, 47647, 13019, 47648, 47649, 47650],\n",
       "  875714: [542449, 542450, 542451, 542452, 13660, 9434, 54245]},\n",
       " {1: [1],\n",
       "  2: [1],\n",
       "  5: [1],\n",
       "  6: [1],\n",
       "  7: [1],\n",
       "  3: [1],\n",
       "  8: [1],\n",
       "  4: [1],\n",
       "  47646: [2],\n",
       "  47647: [2],\n",
       "  13019: [2],\n",
       "  47648: [2],\n",
       "  47649: [2],\n",
       "  47650: [2],\n",
       "  542449: [875714],\n",
       "  542450: [875714],\n",
       "  542451: [875714],\n",
       "  542452: [875714],\n",
       "  13660: [875714],\n",
       "  9434: [875714],\n",
       "  54245: [875714]})"
      ]
     },
     "execution_count": 35,
     "metadata": {},
     "output_type": "execute_result"
    }
   ],
   "source": [
    "G.get_verteces"
   ]
  },
  {
   "cell_type": "code",
   "execution_count": 51,
   "metadata": {},
   "outputs": [
    {
     "ename": "NameError",
     "evalue": "name 'i' is not defined",
     "output_type": "error",
     "traceback": [
      "\u001B[1;31m---------------------------------------------------------------------------\u001B[0m",
      "\u001B[1;31mNameError\u001B[0m                                 Traceback (most recent call last)",
      "\u001B[1;32m<ipython-input-51-f052db0f4418>\u001B[0m in \u001B[0;36m<module>\u001B[1;34m\u001B[0m\n\u001B[1;32m----> 1\u001B[1;33m \u001B[0mG\u001B[0m\u001B[1;33m.\u001B[0m\u001B[0mf_time\u001B[0m \u001B[1;33m=\u001B[0m \u001B[1;36m10\u001B[0m\u001B[1;33m\u001B[0m\u001B[1;33m\u001B[0m\u001B[0m\n\u001B[0m",
      "\u001B[1;32m<ipython-input-45-525affe7fe9a>\u001B[0m in \u001B[0;36mf_time\u001B[1;34m(self, value)\u001B[0m\n\u001B[0;32m     37\u001B[0m         \u001B[1;32mif\u001B[0m \u001B[1;32mnot\u001B[0m \u001B[0misinstance\u001B[0m\u001B[1;33m(\u001B[0m\u001B[0mvalue\u001B[0m\u001B[1;33m,\u001B[0m \u001B[1;33m(\u001B[0m\u001B[0mint\u001B[0m\u001B[1;33m,\u001B[0m \u001B[0mfloat\u001B[0m\u001B[1;33m)\u001B[0m\u001B[1;33m)\u001B[0m\u001B[1;33m:\u001B[0m\u001B[1;33m\u001B[0m\u001B[1;33m\u001B[0m\u001B[0m\n\u001B[0;32m     38\u001B[0m             \u001B[1;32mraise\u001B[0m \u001B[0mValueError\u001B[0m\u001B[1;33m(\u001B[0m\u001B[1;34m\"Value is not a number. Get number for finishing time value\"\u001B[0m\u001B[1;33m)\u001B[0m\u001B[1;33m\u001B[0m\u001B[1;33m\u001B[0m\u001B[0m\n\u001B[1;32m---> 39\u001B[1;33m         \u001B[0mself\u001B[0m\u001B[1;33m.\u001B[0m\u001B[0mf_time\u001B[0m\u001B[1;33m[\u001B[0m\u001B[0mi\u001B[0m\u001B[1;33m]\u001B[0m \u001B[1;33m=\u001B[0m \u001B[0mvalue\u001B[0m\u001B[1;33m\u001B[0m\u001B[1;33m\u001B[0m\u001B[0m\n\u001B[0m\u001B[0;32m     40\u001B[0m \u001B[1;33m\u001B[0m\u001B[0m\n",
      "\u001B[1;31mNameError\u001B[0m: name 'i' is not defined"
     ]
    }
   ],
   "source": [
    "G.f_time = 10"
   ]
  },
  {
   "cell_type": "code",
   "execution_count": 4,
   "metadata": {},
   "outputs": [],
   "source": [
    "leaders = graph.copy()"
   ]
  },
  {
   "cell_type": "code",
   "execution_count": 24,
   "metadata": {},
   "outputs": [
    {
     "name": "stdout",
     "output_type": "stream",
     "text": [
      "10\n"
     ]
    }
   ],
   "source": [
    "s = 100\n",
    "def outer():\n",
    "    s = 10\n",
    "    def b():\n",
    "        nonlocal s\n",
    "        print(s)\n",
    "    b()\n",
    "    \n",
    "outer()"
   ]
  },
  {
   "cell_type": "code",
   "execution_count": null,
   "metadata": {},
   "outputs": [],
   "source": [
    "t = 0\n",
    "s = None\n",
    "f = {v:[] for v in [*graph]}\n",
    "def dfs_loop(graph):\n",
    "    global t\n",
    "    global s\n",
    "    for i in range(max(*graph) + 1, 1, -1):\n",
    "        if not explored[i]:\n",
    "            s = i\n",
    "            dfs(graph, i)\n",
    "    \n",
    "def dfs(graph, i):\n",
    "    nonlocal s\n",
    "    explored[i] = True\n",
    "    leaders[i]  = s\n",
    "    for v1, v2 in graph.edges:\n",
    "        if not explored[v2]:\n",
    "            dfs(graph, j)\n",
    "    t += 1\n",
    "    f[k] = t"
   ]
  },
  {
   "cell_type": "code",
   "execution_count": null,
   "metadata": {},
   "outputs": [],
   "source": [
    "# vert = [*graph]\n",
    "# MAX = max(vert) + 1\n",
    "# excludes = [i for i in range(MAX) if not i in vert]\n",
    "# # excludes"
   ]
  },
  {
   "cell_type": "code",
   "execution_count": 4,
   "metadata": {},
   "outputs": [
    {
     "data": {
      "text/plain": [
       "[0, 1, 2, 3, 4, 5, 6, 7, 8, 9, 10, 11, 12, 13, 14, 15]"
      ]
     },
     "execution_count": 4,
     "metadata": {},
     "output_type": "execute_result"
    }
   ],
   "source": [
    "# [i for i in range(875715) if 10 < i < 15]\n",
    "[i for i in range(875715) if not i > 15]"
   ]
  },
  {
   "cell_type": "code",
   "execution_count": 11,
   "metadata": {
    "scrolled": false
   },
   "outputs": [
    {
     "data": {
      "text/plain": [
       "(739454, 714547)"
      ]
     },
     "execution_count": 11,
     "metadata": {},
     "output_type": "execute_result"
    }
   ],
   "source": [
    "len(graph), len(r_graph)"
   ]
  },
  {
   "cell_type": "code",
   "execution_count": 14,
   "metadata": {},
   "outputs": [
    {
     "data": {
      "text/plain": [
       "[875714]"
      ]
     },
     "execution_count": 14,
     "metadata": {},
     "output_type": "execute_result"
    }
   ],
   "source": []
  }
 ],
 "metadata": {
  "kernelspec": {
   "display_name": "Python 3",
   "language": "python",
   "name": "python3"
  },
  "language_info": {
   "codemirror_mode": {
    "name": "ipython",
    "version": 3
   },
   "file_extension": ".py",
   "mimetype": "text/x-python",
   "name": "python",
   "nbconvert_exporter": "python",
   "pygments_lexer": "ipython3",
   "version": "3.8.3"
  }
 },
 "nbformat": 4,
 "nbformat_minor": 1
}